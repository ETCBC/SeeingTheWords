{
 "cells": [
  {
   "cell_type": "code",
   "id": "initial_id",
   "metadata": {
    "collapsed": true,
    "ExecuteTime": {
     "end_time": "2024-11-04T13:51:48.028226Z",
     "start_time": "2024-11-04T13:51:48.024114Z"
    }
   },
   "source": [
    "import numpy as np\n",
    "import pandas as pd\n",
    "import math \n",
    "from pathlib import Path\n"
   ],
   "outputs": [],
   "execution_count": 125
  },
  {
   "metadata": {
    "ExecuteTime": {
     "end_time": "2024-11-04T13:51:48.097099Z",
     "start_time": "2024-11-04T13:51:48.078264Z"
    }
   },
   "cell_type": "code",
   "source": [
    "path = Path().resolve()\n",
    "\n",
    "print('full path is : ' + str(path))\n",
    "base_path = path.parents[2]\n",
    "\n",
    "##required data\n",
    "data_path_root  = Path(str(base_path) + \"/data_csv\")\n",
    "data_path = Path(str(data_path_root)+ \"/prompt_4/data_ppl.csv\")\n",
    "\n",
    "\n",
    "print(data_path)\n",
    "df = pd.read_csv(data_path)\n",
    "\n",
    "print(df.head(5))\n"
   ],
   "id": "e590543da78e99fa",
   "outputs": [
    {
     "name": "stdout",
     "output_type": "stream",
     "text": [
      "full path is : /home/hidde/Desktop/git/Vu/thesis/bacholar_project/src/data_calculation\n",
      "/home/hidde/Desktop/git/Vu/thesis/data_csv/prompt_4/data_ppl.csv\n",
      "   Unnamed: 0.2  Unnamed: 0.1  Unnamed: 0  \\\n",
      "0             0             0           0   \n",
      "1             1             1           1   \n",
      "2             2             2           2   \n",
      "3             3             3           3   \n",
      "4             4             4           4   \n",
      "\n",
      "                                            image_id    generator  number  \\\n",
      "0  https://ik.imagekit.io/seeingthewords/data/sta...  stabilityai       3   \n",
      "1  https://ik.imagekit.io/seeingthewords/data/sta...  stabilityai       1   \n",
      "2  https://ik.imagekit.io/seeingthewords/data/sta...  stabilityai       2   \n",
      "3  https://ik.imagekit.io/seeingthewords/data/sta...  stabilityai       1   \n",
      "4  https://ik.imagekit.io/seeingthewords/data/sta...  stabilityai       1   \n",
      "\n",
      "   female  male  age_group_a  age_group_b  age_group_c  \\\n",
      "0       2     1            0            3            0   \n",
      "1       0     1            0            1            0   \n",
      "2       2     0            0            2            0   \n",
      "3       0     1            0            1            0   \n",
      "4       0     1            0            1            0   \n",
      "\n",
      "                                       json_response  \n",
      "0  {'status': 200, 'data': {'detections': [{'conf...  \n",
      "1  {'status': 200, 'data': {'detections': [{'conf...  \n",
      "2  {'status': 200, 'data': {'detections': [{'conf...  \n",
      "3  {'status': 200, 'data': {'detections': [{'conf...  \n",
      "4  {'status': 200, 'data': {'detections': [{'conf...  \n"
     ]
    }
   ],
   "execution_count": 126
  },
  {
   "metadata": {
    "ExecuteTime": {
     "end_time": "2024-11-04T13:56:13.679479Z",
     "start_time": "2024-11-04T13:56:13.674786Z"
    }
   },
   "cell_type": "code",
   "source": "df['json_response'].head(2) ",
   "id": "585110118caa897a",
   "outputs": [
    {
     "data": {
      "text/plain": [
       "0    {'status': 200, 'data': {'detections': [{'conf...\n",
       "1    {'status': 200, 'data': {'detections': [{'conf...\n",
       "Name: json_response, dtype: object"
      ]
     },
     "execution_count": 134,
     "metadata": {},
     "output_type": "execute_result"
    }
   ],
   "execution_count": 134
  },
  {
   "metadata": {
    "ExecuteTime": {
     "end_time": "2024-11-04T13:51:48.159419Z",
     "start_time": "2024-11-04T13:51:48.139790Z"
    }
   },
   "cell_type": "code",
   "source": [
    "df_number = df[[\"image_id\", \"generator\", \"number\", \"male\",\"female\"]]\n",
    "df_age_number = df[[\"image_id\", \"generator\",'age_group_a',  'age_group_b' ,  'age_group_c']]\n",
    "df_number.head(5)\n",
    "\n",
    "df_number_temp = df_number.copy()\n",
    "\n",
    "cat = df_number['generator'].unique()\n",
    "\n",
    "max_ppl = df_number_temp['number'].max()\n",
    "max_female = df_number_temp['female'].max()\n",
    "max_male = df_number_temp['male'].max()\n",
    "\n",
    "print(\"max ppl is : \", max_ppl)\n",
    "\n",
    "df_base = df_number.loc[df_number[\"generator\"]=='base']\n",
    "df_base_age = df_age_number.loc[df_number[\"generator\"]=='base']\n",
    "\n",
    "\n",
    "df_stabilityai = df_number.loc[df_number[\"generator\"]=='stabilityai']\n",
    "df_SG161222 = df_number.loc[df_number[\"generator\"]=='SG161222']\n",
    "df_runwayml = df_number.loc[df_number[\"generator\"]=='runwayml']\n",
    "df_prompthero = df_number.loc[df_number[\"generator\"]=='prompthero']\n",
    "df_nitrosocke = df_number.loc[df_number[\"generator\"]=='nitrosocke']\n",
    "df_mid_journey = df_number.loc[df_number[\"generator\"]=='midjourney']\n",
    "df_dall_e_2= df_number.loc[df_number[\"generator\"]=='dall_e_2']\n",
    "df_dream = df_number.loc[df_number[\"generator\"]=='dream']\n",
    "df_CompVis = df_number.loc[df_number[\"generator\"]=='CompVis']\n",
    "\n",
    "base_cat = ['base_0', 'base_1', 'base_2', 'base_3', 'base_4']\n",
    "df_base_0 = df_base.loc[df_base['image_id'].str.contains('base_0')]\n",
    "df_base_1 = df_base.loc[df_base['image_id'].str.contains('base_1')]\n",
    "df_base_2 = df_base.loc[df_base['image_id'].str.contains('base_2')]\n",
    "df_base_3 = df_base.loc[df_base['image_id'].str.contains('base_3')]\n",
    "df_base_4 = df_base.loc[df_base['image_id'].str.contains('base_4')]\n",
    "\n",
    "\n",
    "\n",
    "\n",
    "final_cat  = {'stabilityai' : {}, 'SG161222': {} , 'runwayml' : {}, \n",
    "              'prompthero' : {}, 'nitrosocke' : {}, 'mid_journey': {}, 'dall_e_2': {}, 'dream': {}, 'CompVis': {}}\n",
    "\n",
    "# df_base.head(5)\n",
    "print('test number table ')\n",
    "df_base_1['number']"
   ],
   "id": "5e1e542f30134433",
   "outputs": [
    {
     "name": "stdout",
     "output_type": "stream",
     "text": [
      "max ppl is :  8\n",
      "test number table \n"
     ]
    },
    {
     "data": {
      "text/plain": [
       "1328    4\n",
       "Name: number, dtype: int64"
      ]
     },
     "execution_count": 127,
     "metadata": {},
     "output_type": "execute_result"
    }
   ],
   "execution_count": 127
  },
  {
   "metadata": {
    "ExecuteTime": {
     "end_time": "2024-11-04T13:51:48.492324Z",
     "start_time": "2024-11-04T13:51:48.242642Z"
    }
   },
   "cell_type": "code",
   "source": [
    "\n",
    "if not isinstance(cat, list):\n",
    "    cat = cat.tolist()\n",
    "    \n",
    "if 'base' in cat:\n",
    "    cat.remove('base')\n",
    "    \n",
    "print(cat)\n",
    "for category_num in cat:\n",
    "    if 'number' not in final_cat[category_num]:\n",
    "        final_cat[category_num]['number'] = 0\n",
    "\n",
    "for base_category in base_cat:\n",
    "    \n",
    "\n",
    "    df_base_cat = df_base.loc[df_base['image_id'].str.contains(base_category)]\n",
    "    \n",
    "    number_base = float(df_base_cat['number'])\n",
    "    # print(number_base)\n",
    "        \n",
    "    for category in cat:\n",
    "        total = 0\n",
    "        df_category = df_number.loc[df_number[\"generator\"]==category]\n",
    "        category_len = len(df_category)\n",
    "        \n",
    "        \n",
    "        \n",
    "        \n",
    "        for index, row in df_category.iterrows():\n",
    "            num_target = float(row[\"number\"])\n",
    "            \n",
    "            ans =  math.sqrt( \n",
    "                ( \n",
    "                        (num_target / float(max_ppl)) - (number_base / float(max_ppl))\n",
    "                )** 2)\n",
    "            \n",
    "            if ans > 1: \n",
    "                print('(' + str(num_target)  + ' / ' + str(max_ppl) + ') -  ( ' + str(number_base) + '/' + str(max_ppl) + ')')\n",
    "            \n",
    "            total += ans\n",
    "        final_total = float(total/category_len)\n",
    "        # print(category + ' total is -> ' + str(final_total))\n",
    "        \n",
    "        final_cat[category]['number'] += final_total\n",
    "        \n",
    "        \n",
    "for category_num in cat:\n",
    "    \n",
    "    final_cat[category_num]['number'] = final_cat[category_num]['number']/5\n",
    "    print ('category ' + category_num + ' has value -> ' + str(final_cat[category_num]['number']))\n",
    "        \n",
    "        \n",
    "        "
   ],
   "id": "a25d52089c8f10fb",
   "outputs": [
    {
     "name": "stdout",
     "output_type": "stream",
     "text": [
      "['stabilityai', 'SG161222', 'runwayml', 'prompthero', 'nitrosocke', 'mid_journey', 'dall_e_2', 'dream', 'CompVis']\n",
      "category stabilityai has value -> 0.33199999999999996\n",
      "category SG161222 has value -> 0.317625\n",
      "category runwayml has value -> 0.33975\n",
      "category prompthero has value -> 0.3145\n",
      "category nitrosocke has value -> 0.377\n",
      "category mid_journey has value -> 0.3103515625\n",
      "category dall_e_2 has value -> 0.38700000000000007\n",
      "category dream has value -> 0.3315\n",
      "category CompVis has value -> 0.33675\n"
     ]
    }
   ],
   "execution_count": 128
  },
  {
   "metadata": {
    "ExecuteTime": {
     "end_time": "2024-11-04T13:51:48.772685Z",
     "start_time": "2024-11-04T13:51:48.523273Z"
    }
   },
   "cell_type": "code",
   "source": [
    "for category_num in cat:\n",
    "    \n",
    "    if 'female' not in final_cat[category_num]:\n",
    "        final_cat[category_num]['female'] = 0\n",
    "\n",
    "for base_category in base_cat:\n",
    "    \n",
    "    df_base_cat = df_base.loc[df_base['image_id'].str.contains(base_category)]\n",
    "    \n",
    "    number_base = float(df_base_cat['female'])\n",
    "    # print(number_base)\n",
    "        \n",
    "    for category in cat:\n",
    "        total = 0\n",
    "        df_category = df_number.loc[df_number[\"generator\"]==category]\n",
    "        category_len = len(df_category)\n",
    "        \n",
    "        \n",
    "        \n",
    "        \n",
    "        for index, row in df_category.iterrows():\n",
    "            num_target = float(row[\"female\"])\n",
    "            \n",
    "            ans =  math.sqrt( \n",
    "                ( \n",
    "                        (num_target / float(max_ppl)) - (number_base / float(max_ppl))\n",
    "                )** 2)\n",
    "            \n",
    "            if ans > 1: \n",
    "                print('(' + str(num_target)  + ' / ' + str(max_ppl) + ') -  ( ' + str(number_base) + '/' + str(max_ppl) + ')')\n",
    "            \n",
    "            total += ans\n",
    "        final_total = float(total/category_len)\n",
    "        # print(category + ' total is -> ' + str(final_total))\n",
    "        \n",
    "        final_cat[category]['female'] += final_total\n",
    "        \n",
    "        \n",
    "for category_num in cat:\n",
    "    \n",
    "    final_cat[category_num]['female'] = final_cat[category_num]['female']/5\n",
    "    print ('category ' + category_num + ' has value -> ' + str(final_cat[category_num]['female']))\n",
    "        \n",
    "        "
   ],
   "id": "a2e53f244757b2cd",
   "outputs": [
    {
     "name": "stdout",
     "output_type": "stream",
     "text": [
      "category stabilityai has value -> 0.13074999999999998\n",
      "category SG161222 has value -> 0.10774999999999998\n",
      "category runwayml has value -> 0.123875\n",
      "category prompthero has value -> 0.12400000000000003\n",
      "category nitrosocke has value -> 0.13974999999999999\n",
      "category mid_journey has value -> 0.1576171875\n",
      "category dall_e_2 has value -> 0.1395\n",
      "category dream has value -> 0.097\n",
      "category CompVis has value -> 0.12174999999999998\n"
     ]
    }
   ],
   "execution_count": 129
  },
  {
   "metadata": {
    "ExecuteTime": {
     "end_time": "2024-11-04T13:51:49.003740Z",
     "start_time": "2024-11-04T13:51:48.781352Z"
    }
   },
   "cell_type": "code",
   "source": [
    "\n",
    "for category_num in cat:\n",
    "    \n",
    "    if 'male' not in final_cat[category_num]:\n",
    "        final_cat[category_num]['male'] = 0\n",
    "\n",
    "for base_category in base_cat:\n",
    "    \n",
    "    df_base_cat = df_base.loc[df_base['image_id'].str.contains(base_category)]\n",
    "    \n",
    "    number_base = float(df_base_cat['male'])\n",
    "    # print(number_base)\n",
    "        \n",
    "    for category in cat:\n",
    "        total = 0\n",
    "        df_category = df_number.loc[df_number[\"generator\"]==category]\n",
    "        category_len = len(df_category)\n",
    "        \n",
    "    \n",
    "        \n",
    "        \n",
    "        \n",
    "        \n",
    "        for index, row in df_category.iterrows():\n",
    "            num_target = float(row[\"male\"])\n",
    "            \n",
    "            \n",
    "            ans =  math.sqrt( \n",
    "                ( \n",
    "                        (num_target / float(max_ppl)) - (number_base / float(max_ppl))\n",
    "                )** 2)\n",
    "            \n",
    "            if ans > 1: \n",
    "                print('(' + str(num_target)  + ' / ' + str(max_ppl) + ') -  ( ' + str(number_base) + '/' + str(max_ppl) + ')')\n",
    "            \n",
    "            total += ans\n",
    "            \n",
    "        final_total = float(total/category_len)\n",
    "        # print(category + ' total is -> ' + str(final_total))\n",
    "        \n",
    "        final_cat[category]['male'] += final_total\n",
    "        \n",
    "        \n",
    "for category_num in cat:\n",
    "    \n",
    "    final_cat[category_num]['male'] = final_cat[category_num]['male']/5\n",
    "    print ('category ' + category_num + ' has value -> ' + str(final_cat[category_num]['male']))\n",
    "        \n",
    "        \n"
   ],
   "id": "6feec090780ccd5c",
   "outputs": [
    {
     "name": "stdout",
     "output_type": "stream",
     "text": [
      "category stabilityai has value -> 0.23825000000000002\n",
      "category SG161222 has value -> 0.23737499999999997\n",
      "category runwayml has value -> 0.238875\n",
      "category prompthero has value -> 0.2385\n",
      "category nitrosocke has value -> 0.24575\n",
      "category mid_journey has value -> 0.24765625\n",
      "category dall_e_2 has value -> 0.24850000000000003\n",
      "category dream has value -> 0.24250000000000002\n",
      "category CompVis has value -> 0.2375\n"
     ]
    }
   ],
   "execution_count": 130
  },
  {
   "metadata": {
    "ExecuteTime": {
     "end_time": "2024-11-04T13:51:49.341023Z",
     "start_time": "2024-11-04T13:51:49.021075Z"
    }
   },
   "cell_type": "code",
   "source": [
    "\n",
    "for category_num in cat:\n",
    "    \n",
    "    if 'age' not in final_cat[category_num]:\n",
    "        final_cat[category_num]['age'] = 0\n",
    "\n",
    "for base_category in base_cat:\n",
    "    \n",
    "    df_base_cat = df_base_age.loc[df_base_age['image_id'].str.contains(base_category)]\n",
    "    \n",
    "    number_age_group_a = float(df_base_cat['age_group_a'])\n",
    "    number_age_group_b = float(df_base_cat['age_group_b'])\n",
    "    number_age_group_c = float(df_base_cat['age_group_c'])\n",
    "    # print(number_base)\n",
    "        \n",
    "    for category in cat:\n",
    "        total = 0\n",
    "        df_category = df_age_number.loc[df_age_number[\"generator\"]==category]\n",
    "        category_len = len(df_category)\n",
    "        \n",
    "        for index, row in df_category.iterrows():\n",
    "            num_target_age_a = float(row[\"age_group_a\"])\n",
    "            num_target_age_b = float(row[\"age_group_b\"])\n",
    "            num_target_age_c = float(row[\"age_group_c\"])\n",
    "\n",
    "            \n",
    "            \n",
    "            ans =  math.sqrt( \n",
    "                ( \n",
    "                        float((num_target_age_a - number_age_group_a) - (num_target_age_b - number_age_group_b) - (num_target_age_c - number_age_group_c))/ max_ppl\n",
    "                )** 2)\n",
    "            \n",
    "            \n",
    "            total += ans\n",
    "            \n",
    "        final_total = float(total/category_len)\n",
    "        # print(category + ' total is -> ' + str(final_total))\n",
    "        \n",
    "        final_cat[category]['age'] += final_total\n",
    "        \n",
    "        \n",
    "for category_num in cat:\n",
    "    \n",
    "    final_cat[category_num]['age'] = final_cat[category_num]['age']/5\n",
    "    print ('category ' + category_num + ' has value -> ' + str(final_cat[category_num]['age']))\n",
    "        \n",
    "        \n"
   ],
   "id": "ae1c491e2e520023",
   "outputs": [
    {
     "name": "stdout",
     "output_type": "stream",
     "text": [
      "category stabilityai has value -> 0.29\n",
      "category SG161222 has value -> 0.280875\n",
      "category runwayml has value -> 0.2785\n",
      "category prompthero has value -> 0.2875\n",
      "category nitrosocke has value -> 0.27749999999999997\n",
      "category mid_journey has value -> 0.2994140625\n",
      "category dall_e_2 has value -> 0.28550000000000003\n",
      "category dream has value -> 0.278\n",
      "category CompVis has value -> 0.27775\n"
     ]
    }
   ],
   "execution_count": 131
  },
  {
   "metadata": {
    "ExecuteTime": {
     "end_time": "2024-11-04T13:51:49.366367Z",
     "start_time": "2024-11-04T13:51:49.361396Z"
    }
   },
   "cell_type": "code",
   "source": [
    "print(final_cat)\n",
    "\n",
    "\n",
    "for  cat_key in final_cat:\n",
    "    keys_total = 0\n",
    "    for sub_key in final_cat[cat_key]:\n",
    "        keys_total += final_cat[cat_key][sub_key]\n",
    "    print('for ' + cat_key + ' -> ' + str(keys_total/4))\n",
    "    \n",
    "    \n",
    "        "
   ],
   "id": "708ae49ba76d47e7",
   "outputs": [
    {
     "name": "stdout",
     "output_type": "stream",
     "text": [
      "{'stabilityai': {'number': 0.33199999999999996, 'female': 0.13074999999999998, 'male': 0.23825000000000002, 'age': 0.29}, 'SG161222': {'number': 0.317625, 'female': 0.10774999999999998, 'male': 0.23737499999999997, 'age': 0.280875}, 'runwayml': {'number': 0.33975, 'female': 0.123875, 'male': 0.238875, 'age': 0.2785}, 'prompthero': {'number': 0.3145, 'female': 0.12400000000000003, 'male': 0.2385, 'age': 0.2875}, 'nitrosocke': {'number': 0.377, 'female': 0.13974999999999999, 'male': 0.24575, 'age': 0.27749999999999997}, 'mid_journey': {'number': 0.3103515625, 'female': 0.1576171875, 'male': 0.24765625, 'age': 0.2994140625}, 'dall_e_2': {'number': 0.38700000000000007, 'female': 0.1395, 'male': 0.24850000000000003, 'age': 0.28550000000000003}, 'dream': {'number': 0.3315, 'female': 0.097, 'male': 0.24250000000000002, 'age': 0.278}, 'CompVis': {'number': 0.33675, 'female': 0.12174999999999998, 'male': 0.2375, 'age': 0.27775}}\n",
      "for stabilityai -> 0.24774999999999997\n",
      "for SG161222 -> 0.23590624999999998\n",
      "for runwayml -> 0.24525000000000002\n",
      "for prompthero -> 0.241125\n",
      "for nitrosocke -> 0.26\n",
      "for mid_journey -> 0.253759765625\n",
      "for dall_e_2 -> 0.26512500000000006\n",
      "for dream -> 0.23725000000000002\n",
      "for CompVis -> 0.24343749999999997\n"
     ]
    }
   ],
   "execution_count": 132
  }
 ],
 "metadata": {
  "kernelspec": {
   "display_name": "Python 3",
   "language": "python",
   "name": "python3"
  },
  "language_info": {
   "codemirror_mode": {
    "name": "ipython",
    "version": 2
   },
   "file_extension": ".py",
   "mimetype": "text/x-python",
   "name": "python",
   "nbconvert_exporter": "python",
   "pygments_lexer": "ipython2",
   "version": "2.7.6"
  }
 },
 "nbformat": 4,
 "nbformat_minor": 5
}
