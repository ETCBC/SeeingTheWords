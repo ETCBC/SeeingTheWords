{
 "cells": [
  {
   "cell_type": "markdown",
   "source": [],
   "metadata": {
    "collapsed": false
   }
  },
  {
   "cell_type": "code",
   "execution_count": 1,
   "outputs": [],
   "source": [
    "import analyzeppl\n",
    "import image_data\n",
    "import pandas as pd\n",
    "import data_frame_helper\n",
    "import human_re"
   ],
   "metadata": {
    "collapsed": false,
    "ExecuteTime": {
     "end_time": "2023-06-24T15:14:28.385185491Z",
     "start_time": "2023-06-24T15:14:28.153457802Z"
    }
   }
  },
  {
   "cell_type": "markdown",
   "source": [
    "Making a dataframe to store the data."
   ],
   "metadata": {
    "collapsed": false
   }
  },
  {
   "cell_type": "code",
   "execution_count": 2,
   "outputs": [
    {
     "data": {
      "text/plain": "Empty DataFrame\nColumns: [image_id, number, female, male, age_group_a, age_group_b, age_group_c, json_response]\nIndex: []",
      "text/html": "<div>\n<style scoped>\n    .dataframe tbody tr th:only-of-type {\n        vertical-align: middle;\n    }\n\n    .dataframe tbody tr th {\n        vertical-align: top;\n    }\n\n    .dataframe thead th {\n        text-align: right;\n    }\n</style>\n<table border=\"1\" class=\"dataframe\">\n  <thead>\n    <tr style=\"text-align: right;\">\n      <th></th>\n      <th>image_id</th>\n      <th>number</th>\n      <th>female</th>\n      <th>male</th>\n      <th>age_group_a</th>\n      <th>age_group_b</th>\n      <th>age_group_c</th>\n      <th>json_response</th>\n    </tr>\n  </thead>\n  <tbody>\n  </tbody>\n</table>\n</div>"
     },
     "execution_count": 2,
     "metadata": {},
     "output_type": "execute_result"
    }
   ],
   "source": [
    "# columns_section_0 =[\"image_id\", \"number\", \"female\", \"male\", \"age_group_a\", \"age_group_b\", \"age_group_c\", \"json_response\"]\n",
    "# df_prompt_0 = pd.DataFrame(columns=columns_section_0)\n",
    "\n",
    "df_prompt_0= data_frame_helper.section_0_setup()\n",
    "\n",
    "df_prompt_0"
   ],
   "metadata": {
    "collapsed": false,
    "ExecuteTime": {
     "end_time": "2023-06-24T15:14:29.496382205Z",
     "start_time": "2023-06-24T15:14:29.491727886Z"
    }
   }
  },
  {
   "cell_type": "code",
   "execution_count": 3,
   "outputs": [
    {
     "data": {
      "text/plain": "5"
     },
     "execution_count": 3,
     "metadata": {},
     "output_type": "execute_result"
    }
   ],
   "source": [
    "root_path = \"data/base/prompt_0/\"\n",
    "\n",
    "\n",
    "folder_info= image_data.get_file_details(root_path)\n",
    "\n",
    "len(folder_info)\n"
   ],
   "metadata": {
    "collapsed": false,
    "ExecuteTime": {
     "end_time": "2023-06-24T15:14:30.312439198Z",
     "start_time": "2023-06-24T15:14:29.998161694Z"
    }
   }
  },
  {
   "cell_type": "code",
   "execution_count": 4,
   "outputs": [
    {
     "ename": "AttributeError",
     "evalue": "module 'image_data' has no attribute 'get_file_details_file'",
     "output_type": "error",
     "traceback": [
      "\u001B[0;31m---------------------------------------------------------------------------\u001B[0m",
      "\u001B[0;31mAttributeError\u001B[0m                            Traceback (most recent call last)",
      "Input \u001B[0;32mIn [4]\u001B[0m, in \u001B[0;36m<cell line: 3>\u001B[0;34m()\u001B[0m\n\u001B[1;32m      1\u001B[0m root \u001B[38;5;241m=\u001B[39m \u001B[38;5;124m\"\u001B[39m\u001B[38;5;124mdata\u001B[39m\u001B[38;5;124m\"\u001B[39m\n\u001B[0;32m----> 3\u001B[0m folder_folder \u001B[38;5;241m=\u001B[39m \u001B[43mimage_data\u001B[49m\u001B[38;5;241;43m.\u001B[39;49m\u001B[43mget_file_details_file\u001B[49m(\u001B[38;5;124m\"\u001B[39m\u001B[38;5;124m\"\u001B[39m)\n\u001B[1;32m      5\u001B[0m info \u001B[38;5;241m=\u001B[39m folder_folder\n\u001B[1;32m      7\u001B[0m \u001B[38;5;66;03m# len(folder_folder)\u001B[39;00m\n",
      "\u001B[0;31mAttributeError\u001B[0m: module 'image_data' has no attribute 'get_file_details_file'"
     ]
    }
   ],
   "source": [
    "root = \"data\"\n",
    "\n",
    "folder_folder = image_data.get_file_details_file(\"\")\n",
    "\n",
    "info = folder_folder\n",
    "\n",
    "# len(folder_folder)\n",
    "temp = []\n",
    "for x in folder_folder :\n",
    "    if '/base/prompt_0/'  in x['filePath']:\n",
    "        temp.append(x)\n",
    "\n",
    "info[1]"
   ],
   "metadata": {
    "collapsed": false,
    "ExecuteTime": {
     "end_time": "2023-06-24T15:14:30.586586762Z",
     "start_time": "2023-06-24T15:14:30.583979604Z"
    }
   }
  },
  {
   "cell_type": "code",
   "execution_count": 5,
   "outputs": [
    {
     "data": {
      "text/plain": "[{'type': 'file',\n  'name': 'MJ-DISCORD-P0-0.jpg',\n  'createdAt': '2023-06-20T12:08:08.797Z',\n  'updatedAt': '2023-06-20T12:08:09.086Z',\n  'fileId': '649196a806370748f2184b4f',\n  'tags': None,\n  'AITags': None,\n  'versionInfo': {'id': '649196a806370748f2184b4f', 'name': 'Version 1'},\n  'embeddedMetadata': {'XResolution': 1,\n   'YResolution': 1,\n   'DateCreated': '2023-06-20T12:08:09.086Z',\n   'DateTimeCreated': '2023-06-20T12:08:09.086Z'},\n  'customCoordinates': None,\n  'customMetadata': {},\n  'isPrivateFile': False,\n  'url': 'https://ik.imagekit.io/seeingthewords/data/mid_journey/prompt_0/MJ-DISCORD-P0-0.jpg',\n  'thumbnail': 'https://ik.imagekit.io/seeingthewords/tr:n-ik_ml_thumbnail/data/mid_journey/prompt_0/MJ-DISCORD-P0-0.jpg',\n  'fileType': 'image',\n  'filePath': '/data/mid_journey/prompt_0/MJ-DISCORD-P0-0.jpg',\n  'height': 1024,\n  'width': 1024,\n  'size': 158429,\n  'hasAlpha': False,\n  'mime': 'image/jpeg'},\n {'type': 'file',\n  'name': 'MJ-DISCORD-P0-67.jpg',\n  'createdAt': '2023-06-20T12:08:08.814Z',\n  'updatedAt': '2023-06-20T12:08:09.101Z',\n  'fileId': '649196a806370748f2184b58',\n  'tags': None,\n  'AITags': None,\n  'versionInfo': {'id': '649196a806370748f2184b58', 'name': 'Version 1'},\n  'embeddedMetadata': {'XResolution': 1,\n   'YResolution': 1,\n   'DateCreated': '2023-06-20T12:08:09.100Z',\n   'DateTimeCreated': '2023-06-20T12:08:09.101Z'},\n  'customCoordinates': None,\n  'customMetadata': {},\n  'isPrivateFile': False,\n  'url': 'https://ik.imagekit.io/seeingthewords/data/mid_journey/prompt_0/MJ-DISCORD-P0-67.jpg',\n  'thumbnail': 'https://ik.imagekit.io/seeingthewords/tr:n-ik_ml_thumbnail/data/mid_journey/prompt_0/MJ-DISCORD-P0-67.jpg',\n  'fileType': 'image',\n  'filePath': '/data/mid_journey/prompt_0/MJ-DISCORD-P0-67.jpg',\n  'height': 1024,\n  'width': 1024,\n  'size': 125890,\n  'hasAlpha': False,\n  'mime': 'image/jpeg'},\n {'type': 'file',\n  'name': 'MJ-DISCORD-P0-85.jpg',\n  'createdAt': '2023-06-20T12:08:08.815Z',\n  'updatedAt': '2023-06-20T12:08:09.108Z',\n  'fileId': '649196a806370748f2184b5b',\n  'tags': None,\n  'AITags': None,\n  'versionInfo': {'id': '649196a806370748f2184b5b', 'name': 'Version 1'},\n  'embeddedMetadata': {'XResolution': 1,\n   'YResolution': 1,\n   'DateCreated': '2023-06-20T12:08:09.107Z',\n   'DateTimeCreated': '2023-06-20T12:08:09.107Z'},\n  'customCoordinates': None,\n  'customMetadata': {},\n  'isPrivateFile': False,\n  'url': 'https://ik.imagekit.io/seeingthewords/data/mid_journey/prompt_0/MJ-DISCORD-P0-85.jpg',\n  'thumbnail': 'https://ik.imagekit.io/seeingthewords/tr:n-ik_ml_thumbnail/data/mid_journey/prompt_0/MJ-DISCORD-P0-85.jpg',\n  'fileType': 'image',\n  'filePath': '/data/mid_journey/prompt_0/MJ-DISCORD-P0-85.jpg',\n  'height': 1024,\n  'width': 1024,\n  'size': 177484,\n  'hasAlpha': False,\n  'mime': 'image/jpeg'},\n {'type': 'file',\n  'name': 'MJ-DISCORD-P0-50.jpg',\n  'createdAt': '2023-06-20T12:08:08.853Z',\n  'updatedAt': '2023-06-20T12:08:09.144Z',\n  'fileId': '649196a806370748f2184b6c',\n  'tags': None,\n  'AITags': None,\n  'versionInfo': {'id': '649196a806370748f2184b6c', 'name': 'Version 1'},\n  'embeddedMetadata': {'XResolution': 1,\n   'YResolution': 1,\n   'DateCreated': '2023-06-20T12:08:09.143Z',\n   'DateTimeCreated': '2023-06-20T12:08:09.144Z'},\n  'customCoordinates': None,\n  'customMetadata': {},\n  'isPrivateFile': False,\n  'url': 'https://ik.imagekit.io/seeingthewords/data/mid_journey/prompt_0/MJ-DISCORD-P0-50.jpg',\n  'thumbnail': 'https://ik.imagekit.io/seeingthewords/tr:n-ik_ml_thumbnail/data/mid_journey/prompt_0/MJ-DISCORD-P0-50.jpg',\n  'fileType': 'image',\n  'filePath': '/data/mid_journey/prompt_0/MJ-DISCORD-P0-50.jpg',\n  'height': 1024,\n  'width': 1024,\n  'size': 125897,\n  'hasAlpha': False,\n  'mime': 'image/jpeg'},\n {'type': 'file',\n  'name': 'MJ-DISCORD-P0-3.jpg',\n  'createdAt': '2023-06-20T12:08:08.855Z',\n  'updatedAt': '2023-06-20T12:08:09.141Z',\n  'fileId': '649196a806370748f2184b6f',\n  'tags': None,\n  'AITags': None,\n  'versionInfo': {'id': '649196a806370748f2184b6f', 'name': 'Version 1'},\n  'embeddedMetadata': {'XResolution': 1,\n   'YResolution': 1,\n   'DateCreated': '2023-06-20T12:08:09.141Z',\n   'DateTimeCreated': '2023-06-20T12:08:09.141Z'},\n  'customCoordinates': None,\n  'customMetadata': {},\n  'isPrivateFile': False,\n  'url': 'https://ik.imagekit.io/seeingthewords/data/mid_journey/prompt_0/MJ-DISCORD-P0-3.jpg',\n  'thumbnail': 'https://ik.imagekit.io/seeingthewords/tr:n-ik_ml_thumbnail/data/mid_journey/prompt_0/MJ-DISCORD-P0-3.jpg',\n  'fileType': 'image',\n  'filePath': '/data/mid_journey/prompt_0/MJ-DISCORD-P0-3.jpg',\n  'height': 1024,\n  'width': 1024,\n  'size': 175078,\n  'hasAlpha': False,\n  'mime': 'image/jpeg'},\n {'type': 'file',\n  'name': 'MJ-DISCORD-P0-82.jpg',\n  'createdAt': '2023-06-20T12:08:08.880Z',\n  'updatedAt': '2023-06-20T12:08:09.169Z',\n  'fileId': '649196a806370748f2184b7d',\n  'tags': None,\n  'AITags': None,\n  'versionInfo': {'id': '649196a806370748f2184b7d', 'name': 'Version 1'},\n  'embeddedMetadata': {'XResolution': 1,\n   'YResolution': 1,\n   'DateCreated': '2023-06-20T12:08:09.168Z',\n   'DateTimeCreated': '2023-06-20T12:08:09.169Z'},\n  'customCoordinates': None,\n  'customMetadata': {},\n  'isPrivateFile': False,\n  'url': 'https://ik.imagekit.io/seeingthewords/data/mid_journey/prompt_0/MJ-DISCORD-P0-82.jpg',\n  'thumbnail': 'https://ik.imagekit.io/seeingthewords/tr:n-ik_ml_thumbnail/data/mid_journey/prompt_0/MJ-DISCORD-P0-82.jpg',\n  'fileType': 'image',\n  'filePath': '/data/mid_journey/prompt_0/MJ-DISCORD-P0-82.jpg',\n  'height': 1024,\n  'width': 1024,\n  'size': 177595,\n  'hasAlpha': False,\n  'mime': 'image/jpeg'},\n {'type': 'file',\n  'name': 'MJ-DISCORD-P0-38.jpg',\n  'createdAt': '2023-06-20T12:08:08.903Z',\n  'updatedAt': '2023-06-20T12:08:09.195Z',\n  'fileId': '649196a806370748f2184c28',\n  'tags': None,\n  'AITags': None,\n  'versionInfo': {'id': '649196a806370748f2184c28', 'name': 'Version 1'},\n  'embeddedMetadata': {'XResolution': 1,\n   'YResolution': 1,\n   'DateCreated': '2023-06-20T12:08:09.195Z',\n   'DateTimeCreated': '2023-06-20T12:08:09.195Z'},\n  'customCoordinates': None,\n  'customMetadata': {},\n  'isPrivateFile': False,\n  'url': 'https://ik.imagekit.io/seeingthewords/data/mid_journey/prompt_0/MJ-DISCORD-P0-38.jpg',\n  'thumbnail': 'https://ik.imagekit.io/seeingthewords/tr:n-ik_ml_thumbnail/data/mid_journey/prompt_0/MJ-DISCORD-P0-38.jpg',\n  'fileType': 'image',\n  'filePath': '/data/mid_journey/prompt_0/MJ-DISCORD-P0-38.jpg',\n  'height': 1024,\n  'width': 1024,\n  'size': 155660,\n  'hasAlpha': False,\n  'mime': 'image/jpeg'},\n {'type': 'file',\n  'name': 'MJ-DISCORD-P0-23.jpg',\n  'createdAt': '2023-06-20T12:08:08.927Z',\n  'updatedAt': '2023-06-20T12:08:09.214Z',\n  'fileId': '649196a806370748f2184cf2',\n  'tags': None,\n  'AITags': None,\n  'versionInfo': {'id': '649196a806370748f2184cf2', 'name': 'Version 1'},\n  'embeddedMetadata': {'XResolution': 1,\n   'YResolution': 1,\n   'DateCreated': '2023-06-20T12:08:09.213Z',\n   'DateTimeCreated': '2023-06-20T12:08:09.214Z'},\n  'customCoordinates': None,\n  'customMetadata': {},\n  'isPrivateFile': False,\n  'url': 'https://ik.imagekit.io/seeingthewords/data/mid_journey/prompt_0/MJ-DISCORD-P0-23.jpg',\n  'thumbnail': 'https://ik.imagekit.io/seeingthewords/tr:n-ik_ml_thumbnail/data/mid_journey/prompt_0/MJ-DISCORD-P0-23.jpg',\n  'fileType': 'image',\n  'filePath': '/data/mid_journey/prompt_0/MJ-DISCORD-P0-23.jpg',\n  'height': 1024,\n  'width': 1024,\n  'size': 198920,\n  'hasAlpha': False,\n  'mime': 'image/jpeg'},\n {'type': 'file',\n  'name': 'MJ-DISCORD-P0-10.jpg',\n  'createdAt': '2023-06-20T12:08:08.942Z',\n  'updatedAt': '2023-06-20T12:08:09.231Z',\n  'fileId': '649196a806370748f2184d7e',\n  'tags': None,\n  'AITags': None,\n  'versionInfo': {'id': '649196a806370748f2184d7e', 'name': 'Version 1'},\n  'embeddedMetadata': {'XResolution': 1,\n   'YResolution': 1,\n   'DateCreated': '2023-06-20T12:08:09.230Z',\n   'DateTimeCreated': '2023-06-20T12:08:09.231Z'},\n  'customCoordinates': None,\n  'customMetadata': {},\n  'isPrivateFile': False,\n  'url': 'https://ik.imagekit.io/seeingthewords/data/mid_journey/prompt_0/MJ-DISCORD-P0-10.jpg',\n  'thumbnail': 'https://ik.imagekit.io/seeingthewords/tr:n-ik_ml_thumbnail/data/mid_journey/prompt_0/MJ-DISCORD-P0-10.jpg',\n  'fileType': 'image',\n  'filePath': '/data/mid_journey/prompt_0/MJ-DISCORD-P0-10.jpg',\n  'height': 1024,\n  'width': 1024,\n  'size': 129246,\n  'hasAlpha': False,\n  'mime': 'image/jpeg'},\n {'type': 'file',\n  'name': 'MJ-DISCORD-P0-35.jpg',\n  'createdAt': '2023-06-20T12:08:08.944Z',\n  'updatedAt': '2023-06-20T12:08:09.234Z',\n  'fileId': '649196a806370748f2184d8f',\n  'tags': None,\n  'AITags': None,\n  'versionInfo': {'id': '649196a806370748f2184d8f', 'name': 'Version 1'},\n  'embeddedMetadata': {'XResolution': 1,\n   'YResolution': 1,\n   'DateCreated': '2023-06-20T12:08:09.234Z',\n   'DateTimeCreated': '2023-06-20T12:08:09.234Z'},\n  'customCoordinates': None,\n  'customMetadata': {},\n  'isPrivateFile': False,\n  'url': 'https://ik.imagekit.io/seeingthewords/data/mid_journey/prompt_0/MJ-DISCORD-P0-35.jpg',\n  'thumbnail': 'https://ik.imagekit.io/seeingthewords/tr:n-ik_ml_thumbnail/data/mid_journey/prompt_0/MJ-DISCORD-P0-35.jpg',\n  'fileType': 'image',\n  'filePath': '/data/mid_journey/prompt_0/MJ-DISCORD-P0-35.jpg',\n  'height': 1024,\n  'width': 1024,\n  'size': 134676,\n  'hasAlpha': False,\n  'mime': 'image/jpeg'}]"
     },
     "execution_count": 5,
     "metadata": {},
     "output_type": "execute_result"
    }
   ],
   "source": [
    "data = image_data.get_target_data('prompt_0')\n",
    "\n",
    "data[0:10]"
   ],
   "metadata": {
    "collapsed": false,
    "ExecuteTime": {
     "end_time": "2023-06-24T15:14:34.395296976Z",
     "start_time": "2023-06-24T15:14:33.589096058Z"
    }
   }
  },
  {
   "cell_type": "code",
   "execution_count": 6,
   "outputs": [
    {
     "data": {
      "text/plain": "     Unnamed: 0                                           image_id  number  \\\n0             0  https://ik.imagekit.io/seeingthewords/data/mid...       3   \n1             1  https://ik.imagekit.io/seeingthewords/data/mid...       3   \n2             2  https://ik.imagekit.io/seeingthewords/data/mid...       3   \n3             3  https://ik.imagekit.io/seeingthewords/data/mid...       3   \n4             4  https://ik.imagekit.io/seeingthewords/data/mid...       3   \n..          ...                                                ...     ...   \n96           96  https://ik.imagekit.io/seeingthewords/data/bas...       3   \n97           97  https://ik.imagekit.io/seeingthewords/data/bas...       3   \n98           98  https://ik.imagekit.io/seeingthewords/data/bas...       3   \n99           99  https://ik.imagekit.io/seeingthewords/data/bas...       3   \n100         100  https://ik.imagekit.io/seeingthewords/data/bas...       3   \n\n     female  male  age_group_a  age_group_b  age_group_c  \\\n0         2     1            0            3            0   \n1         0     0            0            0            0   \n2         1     2            2            1            0   \n3         2     0            0            2            0   \n4         1     1            0            2            0   \n..      ...   ...          ...          ...          ...   \n96        1     2            1            2            0   \n97        2     1            0            3            0   \n98        0     2            0            2            0   \n99        1     1            0            2            0   \n100       0     1            0            1            0   \n\n                                         json_response  \n0    {'status': 200, 'data': {'detections': [{'conf...  \n1    {'status': 200, 'data': {'detections': [], 'da...  \n2    {'status': 200, 'data': {'detections': [{'conf...  \n3    {'status': 200, 'data': {'detections': [{'conf...  \n4    {'status': 200, 'data': {'detections': [{'conf...  \n..                                                 ...  \n96   {'status': 200, 'data': {'detections': [{'conf...  \n97   {'status': 200, 'data': {'detections': [{'conf...  \n98   {'status': 200, 'data': {'detections': [{'conf...  \n99   {'status': 200, 'data': {'detections': [{'conf...  \n100  {'status': 200, 'data': {'detections': [{'conf...  \n\n[101 rows x 9 columns]",
      "text/html": "<div>\n<style scoped>\n    .dataframe tbody tr th:only-of-type {\n        vertical-align: middle;\n    }\n\n    .dataframe tbody tr th {\n        vertical-align: top;\n    }\n\n    .dataframe thead th {\n        text-align: right;\n    }\n</style>\n<table border=\"1\" class=\"dataframe\">\n  <thead>\n    <tr style=\"text-align: right;\">\n      <th></th>\n      <th>Unnamed: 0</th>\n      <th>image_id</th>\n      <th>number</th>\n      <th>female</th>\n      <th>male</th>\n      <th>age_group_a</th>\n      <th>age_group_b</th>\n      <th>age_group_c</th>\n      <th>json_response</th>\n    </tr>\n  </thead>\n  <tbody>\n    <tr>\n      <th>0</th>\n      <td>0</td>\n      <td>https://ik.imagekit.io/seeingthewords/data/mid...</td>\n      <td>3</td>\n      <td>2</td>\n      <td>1</td>\n      <td>0</td>\n      <td>3</td>\n      <td>0</td>\n      <td>{'status': 200, 'data': {'detections': [{'conf...</td>\n    </tr>\n    <tr>\n      <th>1</th>\n      <td>1</td>\n      <td>https://ik.imagekit.io/seeingthewords/data/mid...</td>\n      <td>3</td>\n      <td>0</td>\n      <td>0</td>\n      <td>0</td>\n      <td>0</td>\n      <td>0</td>\n      <td>{'status': 200, 'data': {'detections': [], 'da...</td>\n    </tr>\n    <tr>\n      <th>2</th>\n      <td>2</td>\n      <td>https://ik.imagekit.io/seeingthewords/data/mid...</td>\n      <td>3</td>\n      <td>1</td>\n      <td>2</td>\n      <td>2</td>\n      <td>1</td>\n      <td>0</td>\n      <td>{'status': 200, 'data': {'detections': [{'conf...</td>\n    </tr>\n    <tr>\n      <th>3</th>\n      <td>3</td>\n      <td>https://ik.imagekit.io/seeingthewords/data/mid...</td>\n      <td>3</td>\n      <td>2</td>\n      <td>0</td>\n      <td>0</td>\n      <td>2</td>\n      <td>0</td>\n      <td>{'status': 200, 'data': {'detections': [{'conf...</td>\n    </tr>\n    <tr>\n      <th>4</th>\n      <td>4</td>\n      <td>https://ik.imagekit.io/seeingthewords/data/mid...</td>\n      <td>3</td>\n      <td>1</td>\n      <td>1</td>\n      <td>0</td>\n      <td>2</td>\n      <td>0</td>\n      <td>{'status': 200, 'data': {'detections': [{'conf...</td>\n    </tr>\n    <tr>\n      <th>...</th>\n      <td>...</td>\n      <td>...</td>\n      <td>...</td>\n      <td>...</td>\n      <td>...</td>\n      <td>...</td>\n      <td>...</td>\n      <td>...</td>\n      <td>...</td>\n    </tr>\n    <tr>\n      <th>96</th>\n      <td>96</td>\n      <td>https://ik.imagekit.io/seeingthewords/data/bas...</td>\n      <td>3</td>\n      <td>1</td>\n      <td>2</td>\n      <td>1</td>\n      <td>2</td>\n      <td>0</td>\n      <td>{'status': 200, 'data': {'detections': [{'conf...</td>\n    </tr>\n    <tr>\n      <th>97</th>\n      <td>97</td>\n      <td>https://ik.imagekit.io/seeingthewords/data/bas...</td>\n      <td>3</td>\n      <td>2</td>\n      <td>1</td>\n      <td>0</td>\n      <td>3</td>\n      <td>0</td>\n      <td>{'status': 200, 'data': {'detections': [{'conf...</td>\n    </tr>\n    <tr>\n      <th>98</th>\n      <td>98</td>\n      <td>https://ik.imagekit.io/seeingthewords/data/bas...</td>\n      <td>3</td>\n      <td>0</td>\n      <td>2</td>\n      <td>0</td>\n      <td>2</td>\n      <td>0</td>\n      <td>{'status': 200, 'data': {'detections': [{'conf...</td>\n    </tr>\n    <tr>\n      <th>99</th>\n      <td>99</td>\n      <td>https://ik.imagekit.io/seeingthewords/data/bas...</td>\n      <td>3</td>\n      <td>1</td>\n      <td>1</td>\n      <td>0</td>\n      <td>2</td>\n      <td>0</td>\n      <td>{'status': 200, 'data': {'detections': [{'conf...</td>\n    </tr>\n    <tr>\n      <th>100</th>\n      <td>100</td>\n      <td>https://ik.imagekit.io/seeingthewords/data/bas...</td>\n      <td>3</td>\n      <td>0</td>\n      <td>1</td>\n      <td>0</td>\n      <td>1</td>\n      <td>0</td>\n      <td>{'status': 200, 'data': {'detections': [{'conf...</td>\n    </tr>\n  </tbody>\n</table>\n<p>101 rows × 9 columns</p>\n</div>"
     },
     "execution_count": 6,
     "metadata": {},
     "output_type": "execute_result"
    }
   ],
   "source": [
    "test = data_frame_helper.get_data('prompt_0')\n",
    "test"
   ],
   "metadata": {
    "collapsed": false,
    "ExecuteTime": {
     "end_time": "2023-06-24T15:14:36.821467856Z",
     "start_time": "2023-06-24T15:14:36.800937535Z"
    }
   }
  },
  {
   "cell_type": "code",
   "execution_count": 7,
   "outputs": [
    {
     "name": "stdout",
     "output_type": "stream",
     "text": [
      "<bound method NDFrame.head of      Unnamed: 0                                           image_id  number  \\\n",
      "0             0  https://ik.imagekit.io/seeingthewords/data/mid...       3   \n",
      "1             1  https://ik.imagekit.io/seeingthewords/data/mid...       3   \n",
      "2             2  https://ik.imagekit.io/seeingthewords/data/mid...       3   \n",
      "3             3  https://ik.imagekit.io/seeingthewords/data/mid...       3   \n",
      "4             4  https://ik.imagekit.io/seeingthewords/data/mid...       3   \n",
      "..          ...                                                ...     ...   \n",
      "96           96  https://ik.imagekit.io/seeingthewords/data/bas...       3   \n",
      "97           97  https://ik.imagekit.io/seeingthewords/data/bas...       3   \n",
      "98           98  https://ik.imagekit.io/seeingthewords/data/bas...       3   \n",
      "99           99  https://ik.imagekit.io/seeingthewords/data/bas...       3   \n",
      "100         100  https://ik.imagekit.io/seeingthewords/data/bas...       3   \n",
      "\n",
      "     female  male  age_group_a  age_group_b  age_group_c  \\\n",
      "0         2     1            0            3            0   \n",
      "1         0     0            0            0            0   \n",
      "2         1     2            2            1            0   \n",
      "3         2     0            0            2            0   \n",
      "4         1     1            0            2            0   \n",
      "..      ...   ...          ...          ...          ...   \n",
      "96        1     2            1            2            0   \n",
      "97        2     1            0            3            0   \n",
      "98        0     2            0            2            0   \n",
      "99        1     1            0            2            0   \n",
      "100       0     1            0            1            0   \n",
      "\n",
      "                                         json_response  \n",
      "0    {'status': 200, 'data': {'detections': [{'conf...  \n",
      "1    {'status': 200, 'data': {'detections': [], 'da...  \n",
      "2    {'status': 200, 'data': {'detections': [{'conf...  \n",
      "3    {'status': 200, 'data': {'detections': [{'conf...  \n",
      "4    {'status': 200, 'data': {'detections': [{'conf...  \n",
      "..                                                 ...  \n",
      "96   {'status': 200, 'data': {'detections': [{'conf...  \n",
      "97   {'status': 200, 'data': {'detections': [{'conf...  \n",
      "98   {'status': 200, 'data': {'detections': [{'conf...  \n",
      "99   {'status': 200, 'data': {'detections': [{'conf...  \n",
      "100  {'status': 200, 'data': {'detections': [{'conf...  \n",
      "\n",
      "[101 rows x 9 columns]>\n"
     ]
    }
   ],
   "source": [
    "work, report = human_re.human_recon(data, 'prompt_0')"
   ],
   "metadata": {
    "collapsed": false,
    "ExecuteTime": {
     "end_time": "2023-06-24T15:16:57.688088095Z",
     "start_time": "2023-06-24T15:15:01.538443852Z"
    }
   }
  },
  {
   "cell_type": "code",
   "execution_count": 18,
   "outputs": [
    {
     "data": {
      "text/plain": "                                              image_id  number  female  male  \\\n0    https://ik.imagekit.io/seeingthewords/data/mid...       3       2     1   \n1    https://ik.imagekit.io/seeingthewords/data/mid...       3       0     0   \n2    https://ik.imagekit.io/seeingthewords/data/mid...       3       1     2   \n3    https://ik.imagekit.io/seeingthewords/data/mid...       3       2     0   \n4    https://ik.imagekit.io/seeingthewords/data/mid...       3       1     1   \n..                                                 ...     ...     ...   ...   \n96   https://ik.imagekit.io/seeingthewords/data/bas...       3       1     2   \n97   https://ik.imagekit.io/seeingthewords/data/bas...       3       2     1   \n98   https://ik.imagekit.io/seeingthewords/data/bas...       3       0     2   \n99   https://ik.imagekit.io/seeingthewords/data/bas...       3       1     1   \n100  https://ik.imagekit.io/seeingthewords/data/bas...       3       0     1   \n\n     age_group_a  age_group_b  age_group_c  \\\n0              0            3            0   \n1              0            0            0   \n2              2            1            0   \n3              0            2            0   \n4              0            2            0   \n..           ...          ...          ...   \n96             1            2            0   \n97             0            3            0   \n98             0            2            0   \n99             0            2            0   \n100            0            1            0   \n\n                                         json_response  \n0    {'status': 200, 'data': {'detections': [{'conf...  \n1    {'status': 200, 'data': {'detections': [], 'da...  \n2    {'status': 200, 'data': {'detections': [{'conf...  \n3    {'status': 200, 'data': {'detections': [{'conf...  \n4    {'status': 200, 'data': {'detections': [{'conf...  \n..                                                 ...  \n96   {'status': 200, 'data': {'detections': [{'conf...  \n97   {'status': 200, 'data': {'detections': [{'conf...  \n98   {'status': 200, 'data': {'detections': [{'conf...  \n99   {'status': 200, 'data': {'detections': [{'conf...  \n100  {'status': 200, 'data': {'detections': [{'conf...  \n\n[101 rows x 8 columns]",
      "text/html": "<div>\n<style scoped>\n    .dataframe tbody tr th:only-of-type {\n        vertical-align: middle;\n    }\n\n    .dataframe tbody tr th {\n        vertical-align: top;\n    }\n\n    .dataframe thead th {\n        text-align: right;\n    }\n</style>\n<table border=\"1\" class=\"dataframe\">\n  <thead>\n    <tr style=\"text-align: right;\">\n      <th></th>\n      <th>image_id</th>\n      <th>number</th>\n      <th>female</th>\n      <th>male</th>\n      <th>age_group_a</th>\n      <th>age_group_b</th>\n      <th>age_group_c</th>\n      <th>json_response</th>\n    </tr>\n  </thead>\n  <tbody>\n    <tr>\n      <th>0</th>\n      <td>https://ik.imagekit.io/seeingthewords/data/mid...</td>\n      <td>3</td>\n      <td>2</td>\n      <td>1</td>\n      <td>0</td>\n      <td>3</td>\n      <td>0</td>\n      <td>{'status': 200, 'data': {'detections': [{'conf...</td>\n    </tr>\n    <tr>\n      <th>1</th>\n      <td>https://ik.imagekit.io/seeingthewords/data/mid...</td>\n      <td>3</td>\n      <td>0</td>\n      <td>0</td>\n      <td>0</td>\n      <td>0</td>\n      <td>0</td>\n      <td>{'status': 200, 'data': {'detections': [], 'da...</td>\n    </tr>\n    <tr>\n      <th>2</th>\n      <td>https://ik.imagekit.io/seeingthewords/data/mid...</td>\n      <td>3</td>\n      <td>1</td>\n      <td>2</td>\n      <td>2</td>\n      <td>1</td>\n      <td>0</td>\n      <td>{'status': 200, 'data': {'detections': [{'conf...</td>\n    </tr>\n    <tr>\n      <th>3</th>\n      <td>https://ik.imagekit.io/seeingthewords/data/mid...</td>\n      <td>3</td>\n      <td>2</td>\n      <td>0</td>\n      <td>0</td>\n      <td>2</td>\n      <td>0</td>\n      <td>{'status': 200, 'data': {'detections': [{'conf...</td>\n    </tr>\n    <tr>\n      <th>4</th>\n      <td>https://ik.imagekit.io/seeingthewords/data/mid...</td>\n      <td>3</td>\n      <td>1</td>\n      <td>1</td>\n      <td>0</td>\n      <td>2</td>\n      <td>0</td>\n      <td>{'status': 200, 'data': {'detections': [{'conf...</td>\n    </tr>\n    <tr>\n      <th>...</th>\n      <td>...</td>\n      <td>...</td>\n      <td>...</td>\n      <td>...</td>\n      <td>...</td>\n      <td>...</td>\n      <td>...</td>\n      <td>...</td>\n    </tr>\n    <tr>\n      <th>96</th>\n      <td>https://ik.imagekit.io/seeingthewords/data/bas...</td>\n      <td>3</td>\n      <td>1</td>\n      <td>2</td>\n      <td>1</td>\n      <td>2</td>\n      <td>0</td>\n      <td>{'status': 200, 'data': {'detections': [{'conf...</td>\n    </tr>\n    <tr>\n      <th>97</th>\n      <td>https://ik.imagekit.io/seeingthewords/data/bas...</td>\n      <td>3</td>\n      <td>2</td>\n      <td>1</td>\n      <td>0</td>\n      <td>3</td>\n      <td>0</td>\n      <td>{'status': 200, 'data': {'detections': [{'conf...</td>\n    </tr>\n    <tr>\n      <th>98</th>\n      <td>https://ik.imagekit.io/seeingthewords/data/bas...</td>\n      <td>3</td>\n      <td>0</td>\n      <td>2</td>\n      <td>0</td>\n      <td>2</td>\n      <td>0</td>\n      <td>{'status': 200, 'data': {'detections': [{'conf...</td>\n    </tr>\n    <tr>\n      <th>99</th>\n      <td>https://ik.imagekit.io/seeingthewords/data/bas...</td>\n      <td>3</td>\n      <td>1</td>\n      <td>1</td>\n      <td>0</td>\n      <td>2</td>\n      <td>0</td>\n      <td>{'status': 200, 'data': {'detections': [{'conf...</td>\n    </tr>\n    <tr>\n      <th>100</th>\n      <td>https://ik.imagekit.io/seeingthewords/data/bas...</td>\n      <td>3</td>\n      <td>0</td>\n      <td>1</td>\n      <td>0</td>\n      <td>1</td>\n      <td>0</td>\n      <td>{'status': 200, 'data': {'detections': [{'conf...</td>\n    </tr>\n  </tbody>\n</table>\n<p>101 rows × 8 columns</p>\n</div>"
     },
     "execution_count": 18,
     "metadata": {},
     "output_type": "execute_result"
    }
   ],
   "source": [
    "work"
   ],
   "metadata": {
    "collapsed": false,
    "ExecuteTime": {
     "end_time": "2023-06-24T15:08:32.354124592Z",
     "start_time": "2023-06-24T15:08:32.345870130Z"
    }
   }
  },
  {
   "cell_type": "code",
   "execution_count": 8,
   "outputs": [],
   "source": [
    "data_frame_helper.store_data(work, 'prompt_0')"
   ],
   "metadata": {
    "collapsed": false,
    "ExecuteTime": {
     "end_time": "2023-06-24T15:17:39.582997878Z",
     "start_time": "2023-06-24T15:17:39.571416369Z"
    }
   }
  },
  {
   "cell_type": "code",
   "execution_count": 20,
   "outputs": [],
   "source": [
    "work.to_csv(\"../data/data_csv/prompt_0/data_ppl.csv\")"
   ],
   "metadata": {
    "collapsed": false,
    "ExecuteTime": {
     "end_time": "2023-06-24T15:09:51.384733259Z",
     "start_time": "2023-06-24T15:09:51.377743224Z"
    }
   }
  },
  {
   "cell_type": "code",
   "execution_count": 46,
   "outputs": [],
   "source": [
    "columns_num = [\"loc_id\", \"num\"]\n",
    "df_num_image = pd.DataFrame(columns=columns_num)\n",
    "list_data = {'loc_id':\"base/prompt_0/\", 'num': 5}\n"
   ],
   "metadata": {
    "collapsed": false,
    "ExecuteTime": {
     "end_time": "2023-06-20T19:15:45.282054563Z",
     "start_time": "2023-06-20T19:15:45.270923609Z"
    }
   }
  },
  {
   "cell_type": "code",
   "execution_count": 4,
   "metadata": {
    "collapsed": true,
    "ExecuteTime": {
     "end_time": "2023-06-24T12:36:14.899227150Z",
     "start_time": "2023-06-24T12:36:14.851639590Z"
    }
   },
   "outputs": [],
   "source": [
    "path = \"data/base/prompt_0/base_0.jpg\"\n",
    "\n",
    "url = image_data.get_image(path)"
   ]
  },
  {
   "cell_type": "code",
   "execution_count": 48,
   "outputs": [
    {
     "name": "stdout",
     "output_type": "stream",
     "text": [
      "https://ik.imagekit.io/seeingthewords/data/base/prompt_0/base_0.jpg\n"
     ]
    }
   ],
   "source": [
    "print(url)"
   ],
   "metadata": {
    "collapsed": false,
    "ExecuteTime": {
     "end_time": "2023-06-20T19:15:46.215655440Z",
     "start_time": "2023-06-20T19:15:46.210998320Z"
    }
   }
  },
  {
   "cell_type": "code",
   "execution_count": 49,
   "outputs": [],
   "source": [
    "response = analyzeppl.call_cameralyze(url)\n"
   ],
   "metadata": {
    "collapsed": false,
    "ExecuteTime": {
     "end_time": "2023-06-20T19:15:47.836648582Z",
     "start_time": "2023-06-20T19:15:46.751550593Z"
    }
   }
  },
  {
   "cell_type": "code",
   "execution_count": 50,
   "outputs": [
    {
     "name": "stdout",
     "output_type": "stream",
     "text": [
      "{'status': 200, 'data': {'detections': [{'confidence': 99.78734588623047, 'left': 686, 'top': 115, 'width': 80, 'height': 94, 'gender': {'gender': 'Female', 'confidence': 99.91050720214844}, 'age': {'minimum': 41, 'maximum': 49}}, {'confidence': 99.8741455078125, 'left': 823, 'top': 246, 'width': 55, 'height': 83, 'gender': {'gender': 'Male', 'confidence': 99.5309829711914}, 'age': {'minimum': 34, 'maximum': 42}}, {'confidence': 98.36569213867188, 'left': 161, 'top': 67, 'width': 59, 'height': 64, 'gender': {'gender': 'Female', 'confidence': 99.98910522460938}, 'age': {'minimum': 36, 'maximum': 44}}], 'date': '2023-06-20T19:15:47.556016', 'order': 1687288547}}\n"
     ]
    }
   ],
   "source": [
    "print(response)\n"
   ],
   "metadata": {
    "collapsed": false,
    "ExecuteTime": {
     "end_time": "2023-06-20T19:15:47.840106079Z",
     "start_time": "2023-06-20T19:15:47.836919906Z"
    }
   }
  },
  {
   "cell_type": "code",
   "execution_count": 51,
   "outputs": [
    {
     "data": {
      "text/plain": "'Male'"
     },
     "execution_count": 51,
     "metadata": {},
     "output_type": "execute_result"
    }
   ],
   "source": [
    "x = response['data']['detections'][1]\n",
    "x['gender']['gender']"
   ],
   "metadata": {
    "collapsed": false,
    "ExecuteTime": {
     "end_time": "2023-06-20T19:15:49.033644328Z",
     "start_time": "2023-06-20T19:15:49.028768709Z"
    }
   }
  },
  {
   "cell_type": "code",
   "execution_count": 52,
   "outputs": [],
   "source": [
    "male = 0\n",
    "female = 0\n",
    "group_a = 0\n",
    "group_b = 0\n",
    "group_c = 0\n",
    "for data in response['data']['detections']:\n",
    "     if data['gender']['gender'] == 'Male': male+=1\n",
    "     else :female += 1\n",
    "\n",
    "     min_age = data['age']['minimum']\n",
    "     max_age = data['age']['maximum']\n",
    "     if min_age < 12:\n",
    "            group_a += 1\n",
    "     elif min_age < 50:\n",
    "             group_b += 1\n",
    "     elif min_age > 50:\n",
    "             group_c += 1\n",
    "\n",
    "data = {'image_id': path, 'number': len(response['data']),'male': male, 'female': female, \"age_group_a\": group_a, 'age_group_b':group_b, 'age_group_c': group_c, 'json_response': response}"
   ],
   "metadata": {
    "collapsed": false,
    "ExecuteTime": {
     "end_time": "2023-06-20T19:15:49.922068240Z",
     "start_time": "2023-06-20T19:15:49.921552491Z"
    }
   }
  },
  {
   "cell_type": "code",
   "execution_count": 53,
   "outputs": [],
   "source": [
    "df_prompt_0.loc[len(df_prompt_0)] = data\n"
   ],
   "metadata": {
    "collapsed": false,
    "ExecuteTime": {
     "end_time": "2023-06-20T19:15:50.996048071Z",
     "start_time": "2023-06-20T19:15:50.993546474Z"
    }
   }
  },
  {
   "cell_type": "code",
   "execution_count": 54,
   "outputs": [
    {
     "data": {
      "text/plain": "                        image_id  number  female  male  age_group_a  \\\n0  data/base/prompt_0/base_0.jpg       3       2     1            0   \n\n   age_group_b  age_group_c                                      json_response  \n0            3            0  {'status': 200, 'data': {'detections': [{'conf...  ",
      "text/html": "<div>\n<style scoped>\n    .dataframe tbody tr th:only-of-type {\n        vertical-align: middle;\n    }\n\n    .dataframe tbody tr th {\n        vertical-align: top;\n    }\n\n    .dataframe thead th {\n        text-align: right;\n    }\n</style>\n<table border=\"1\" class=\"dataframe\">\n  <thead>\n    <tr style=\"text-align: right;\">\n      <th></th>\n      <th>image_id</th>\n      <th>number</th>\n      <th>female</th>\n      <th>male</th>\n      <th>age_group_a</th>\n      <th>age_group_b</th>\n      <th>age_group_c</th>\n      <th>json_response</th>\n    </tr>\n  </thead>\n  <tbody>\n    <tr>\n      <th>0</th>\n      <td>data/base/prompt_0/base_0.jpg</td>\n      <td>3</td>\n      <td>2</td>\n      <td>1</td>\n      <td>0</td>\n      <td>3</td>\n      <td>0</td>\n      <td>{'status': 200, 'data': {'detections': [{'conf...</td>\n    </tr>\n  </tbody>\n</table>\n</div>"
     },
     "execution_count": 54,
     "metadata": {},
     "output_type": "execute_result"
    }
   ],
   "source": [
    "df_prompt_0"
   ],
   "metadata": {
    "collapsed": false,
    "ExecuteTime": {
     "end_time": "2023-06-20T19:15:52.504147043Z",
     "start_time": "2023-06-20T19:15:52.502229120Z"
    }
   }
  },
  {
   "cell_type": "code",
   "execution_count": null,
   "outputs": [],
   "source": [],
   "metadata": {
    "collapsed": false
   }
  }
 ],
 "metadata": {
  "kernelspec": {
   "display_name": "Python 3",
   "language": "python",
   "name": "python3"
  },
  "language_info": {
   "codemirror_mode": {
    "name": "ipython",
    "version": 2
   },
   "file_extension": ".py",
   "mimetype": "text/x-python",
   "name": "python",
   "nbconvert_exporter": "python",
   "pygments_lexer": "ipython2",
   "version": "2.7.6"
  }
 },
 "nbformat": 4,
 "nbformat_minor": 0
}
